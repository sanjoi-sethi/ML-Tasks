{
 "cells": [
  {
   "cell_type": "markdown",
   "metadata": {},
   "source": [
    "# 1) Importing the required libraries"
   ]
  },
  {
   "cell_type": "code",
   "execution_count": 1,
   "metadata": {},
   "outputs": [],
   "source": [
    "import numpy as np\n",
    "import pandas as pd\n",
    "import matplotlib as plt"
   ]
  },
  {
   "cell_type": "markdown",
   "metadata": {},
   "source": [
    "# 2) Reading the training and the test data into respective variables"
   ]
  },
  {
   "cell_type": "code",
   "execution_count": 2,
   "metadata": {},
   "outputs": [],
   "source": [
    "floods_data=pd.read_csv('Uttarakhand_Floods.csv')"
   ]
  },
  {
   "cell_type": "markdown",
   "metadata": {},
   "source": [
    "# 3) Data"
   ]
  },
  {
   "cell_type": "code",
   "execution_count": 3,
   "metadata": {},
   "outputs": [
    {
     "data": {
      "text/html": [
       "<div>\n",
       "<style scoped>\n",
       "    .dataframe tbody tr th:only-of-type {\n",
       "        vertical-align: middle;\n",
       "    }\n",
       "\n",
       "    .dataframe tbody tr th {\n",
       "        vertical-align: top;\n",
       "    }\n",
       "\n",
       "    .dataframe thead th {\n",
       "        text-align: right;\n",
       "    }\n",
       "</style>\n",
       "<table border=\"1\" class=\"dataframe\">\n",
       "  <thead>\n",
       "    <tr style=\"text-align: right;\">\n",
       "      <th></th>\n",
       "      <th>Name</th>\n",
       "      <th>Land for Mining</th>\n",
       "      <th>Normal Rainfall(mm)</th>\n",
       "      <th>Departure from Normal (%)</th>\n",
       "      <th>Actual Rainfall (mm)</th>\n",
       "      <th>Effect</th>\n",
       "    </tr>\n",
       "  </thead>\n",
       "  <tbody>\n",
       "    <tr>\n",
       "      <th>0</th>\n",
       "      <td>Almora</td>\n",
       "      <td>59.62</td>\n",
       "      <td>26.3</td>\n",
       "      <td>694</td>\n",
       "      <td>208.7</td>\n",
       "      <td>No</td>\n",
       "    </tr>\n",
       "    <tr>\n",
       "      <th>1</th>\n",
       "      <td>Bageshwar</td>\n",
       "      <td>13.87</td>\n",
       "      <td>26.3</td>\n",
       "      <td>1387</td>\n",
       "      <td>391.2</td>\n",
       "      <td>Yes</td>\n",
       "    </tr>\n",
       "    <tr>\n",
       "      <th>2</th>\n",
       "      <td>Chamoli</td>\n",
       "      <td>115.81</td>\n",
       "      <td>22.6</td>\n",
       "      <td>1302</td>\n",
       "      <td>316.9</td>\n",
       "      <td>Yes</td>\n",
       "    </tr>\n",
       "    <tr>\n",
       "      <th>3</th>\n",
       "      <td>Champawat</td>\n",
       "      <td>182.80</td>\n",
       "      <td>33.5</td>\n",
       "      <td>948</td>\n",
       "      <td>351.0</td>\n",
       "      <td>No</td>\n",
       "    </tr>\n",
       "    <tr>\n",
       "      <th>4</th>\n",
       "      <td>Dehradun</td>\n",
       "      <td>63.51</td>\n",
       "      <td>36.8</td>\n",
       "      <td>1436</td>\n",
       "      <td>565.4</td>\n",
       "      <td>Yes</td>\n",
       "    </tr>\n",
       "  </tbody>\n",
       "</table>\n",
       "</div>"
      ],
      "text/plain": [
       "        Name  Land for Mining  Normal Rainfall(mm)  Departure from Normal (%)  \\\n",
       "0     Almora            59.62                 26.3                        694   \n",
       "1  Bageshwar            13.87                 26.3                       1387   \n",
       "2    Chamoli           115.81                 22.6                       1302   \n",
       "3  Champawat           182.80                 33.5                        948   \n",
       "4   Dehradun            63.51                 36.8                       1436   \n",
       "\n",
       "   Actual Rainfall (mm) Effect  \n",
       "0                 208.7     No  \n",
       "1                 391.2    Yes  \n",
       "2                 316.9    Yes  \n",
       "3                 351.0     No  \n",
       "4                 565.4    Yes  "
      ]
     },
     "execution_count": 3,
     "metadata": {},
     "output_type": "execute_result"
    }
   ],
   "source": [
    "floods_data.head()"
   ]
  },
  {
   "cell_type": "markdown",
   "metadata": {},
   "source": [
    "# 4) Determining variables"
   ]
  },
  {
   "cell_type": "code",
   "execution_count": 5,
   "metadata": {},
   "outputs": [],
   "source": [
    "df=floods_data[['Land for Mining','Normal Rainfall(mm)','Departure from Normal (%)','Actual Rainfall (mm)','Effect']]"
   ]
  },
  {
   "cell_type": "markdown",
   "metadata": {},
   "source": [
    "# 5) Setting X (Predictor) and Y (Response) Variables"
   ]
  },
  {
   "cell_type": "code",
   "execution_count": 6,
   "metadata": {},
   "outputs": [],
   "source": [
    "X=df.drop(\"Effect\",axis=1)\n",
    "Y=df.Effect.map(lambda x: int(x=='Yes'))"
   ]
  },
  {
   "cell_type": "markdown",
   "metadata": {},
   "source": [
    "# 7) Split the data into training and test datasets"
   ]
  },
  {
   "cell_type": "code",
   "execution_count": 7,
   "metadata": {},
   "outputs": [],
   "source": [
    "from sklearn.model_selection import train_test_split\n",
    "X_train, X_test, Y_train, Y_test=train_test_split(X,Y,test_size=0.3,random_state=25)"
   ]
  },
  {
   "cell_type": "markdown",
   "metadata": {},
   "source": [
    "# 8) Defining a function that can help us calculate the Confusion Matrix, Accuracy Scores and obtaining the Classification Report for our Logistic Regression"
   ]
  },
  {
   "cell_type": "code",
   "execution_count": 8,
   "metadata": {},
   "outputs": [],
   "source": [
    "from sklearn.metrics import confusion_matrix, accuracy_score, classification_report\n",
    "def deduction(Y_test,Y_pred):\n",
    "    #1) Coputing the confusion matrix to obtain the accuracy of our model\n",
    "    print(\"Confusion Matrix:\")\n",
    "    conf_mat=confusion_matrix(Y_test,Y_pred)\n",
    "    print(conf_mat)\n",
    "    #2) Computing the accuracy score, i.e., the similarity between Y and Ŷ values\n",
    "    print(\"Accuracy Score:\")\n",
    "    acc_score=accuracy_score(Y_test,Y_pred)\n",
    "    print(acc_score)\n",
    "    #3) obtaining the Classification Report to check how good our model is\n",
    "    print(\"Classification Report:\")\n",
    "    report=classification_report(Y_test,Y_pred)\n",
    "    print(report)"
   ]
  },
  {
   "cell_type": "markdown",
   "metadata": {},
   "source": [
    "# Logistic Regression Model"
   ]
  },
  {
   "cell_type": "code",
   "execution_count": 9,
   "metadata": {},
   "outputs": [
    {
     "name": "stdout",
     "output_type": "stream",
     "text": [
      "Accuracy Report for Logistic Regression Model:\n",
      "\n",
      "Confusion Matrix:\n",
      "[[3 0]\n",
      " [0 1]]\n",
      "Accuracy Score:\n",
      "1.0\n",
      "Classification Report:\n",
      "              precision    recall  f1-score   support\n",
      "\n",
      "           0       1.00      1.00      1.00         3\n",
      "           1       1.00      1.00      1.00         1\n",
      "\n",
      "    accuracy                           1.00         4\n",
      "   macro avg       1.00      1.00      1.00         4\n",
      "weighted avg       1.00      1.00      1.00         4\n",
      "\n"
     ]
    }
   ],
   "source": [
    "from sklearn.linear_model import LogisticRegression\n",
    "#1) Estimating the parameters and training the model using the fit() function\n",
    "logit=LogisticRegression()\n",
    "logit.fit(X_train,Y_train)\n",
    "#2) Predicting Ŷ values\n",
    "Y_pred=logit.predict(X_test)\n",
    "#3) Getting the Accuracy Report for the model\n",
    "print(\"Accuracy Report for Logistic Regression Model:\\n\")\n",
    "deduction(Y_test,Y_pred)"
   ]
  },
  {
   "cell_type": "code",
   "execution_count": null,
   "metadata": {},
   "outputs": [],
   "source": []
  }
 ],
 "metadata": {
  "kernelspec": {
   "display_name": "Python 3",
   "language": "python",
   "name": "python3"
  },
  "language_info": {
   "codemirror_mode": {
    "name": "ipython",
    "version": 3
   },
   "file_extension": ".py",
   "mimetype": "text/x-python",
   "name": "python",
   "nbconvert_exporter": "python",
   "pygments_lexer": "ipython3",
   "version": "3.7.6"
  }
 },
 "nbformat": 4,
 "nbformat_minor": 4
}
