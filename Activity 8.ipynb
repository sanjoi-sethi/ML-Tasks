{
 "cells": [
  {
   "cell_type": "markdown",
   "metadata": {},
   "source": [
    "# 1) Importing the required libraries"
   ]
  },
  {
   "cell_type": "code",
   "execution_count": 1,
   "metadata": {},
   "outputs": [],
   "source": [
    "import pandas as pd\n",
    "import numpy as np"
   ]
  },
  {
   "cell_type": "markdown",
   "metadata": {},
   "source": [
    "# 2) Loading the dataset"
   ]
  },
  {
   "cell_type": "code",
   "execution_count": 4,
   "metadata": {},
   "outputs": [],
   "source": [
    "data=pd.read_csv('student.csv', sep=\";\")"
   ]
  },
  {
   "cell_type": "markdown",
   "metadata": {},
   "source": [
    "# 3) Peak at the data"
   ]
  },
  {
   "cell_type": "code",
   "execution_count": 5,
   "metadata": {},
   "outputs": [
    {
     "data": {
      "text/html": [
       "<div>\n",
       "<style scoped>\n",
       "    .dataframe tbody tr th:only-of-type {\n",
       "        vertical-align: middle;\n",
       "    }\n",
       "\n",
       "    .dataframe tbody tr th {\n",
       "        vertical-align: top;\n",
       "    }\n",
       "\n",
       "    .dataframe thead th {\n",
       "        text-align: right;\n",
       "    }\n",
       "</style>\n",
       "<table border=\"1\" class=\"dataframe\">\n",
       "  <thead>\n",
       "    <tr style=\"text-align: right;\">\n",
       "      <th></th>\n",
       "      <th>school</th>\n",
       "      <th>sex</th>\n",
       "      <th>age</th>\n",
       "      <th>address</th>\n",
       "      <th>famsize</th>\n",
       "      <th>Pstatus</th>\n",
       "      <th>Medu</th>\n",
       "      <th>Fedu</th>\n",
       "      <th>Mjob</th>\n",
       "      <th>Fjob</th>\n",
       "      <th>...</th>\n",
       "      <th>famrel</th>\n",
       "      <th>freetime</th>\n",
       "      <th>goout</th>\n",
       "      <th>Dalc</th>\n",
       "      <th>Walc</th>\n",
       "      <th>health</th>\n",
       "      <th>absences</th>\n",
       "      <th>G1</th>\n",
       "      <th>G2</th>\n",
       "      <th>G3</th>\n",
       "    </tr>\n",
       "  </thead>\n",
       "  <tbody>\n",
       "    <tr>\n",
       "      <th>0</th>\n",
       "      <td>GP</td>\n",
       "      <td>F</td>\n",
       "      <td>18</td>\n",
       "      <td>U</td>\n",
       "      <td>GT3</td>\n",
       "      <td>A</td>\n",
       "      <td>4</td>\n",
       "      <td>4</td>\n",
       "      <td>at_home</td>\n",
       "      <td>teacher</td>\n",
       "      <td>...</td>\n",
       "      <td>4</td>\n",
       "      <td>3</td>\n",
       "      <td>4</td>\n",
       "      <td>1</td>\n",
       "      <td>1</td>\n",
       "      <td>3</td>\n",
       "      <td>6</td>\n",
       "      <td>5</td>\n",
       "      <td>6</td>\n",
       "      <td>6</td>\n",
       "    </tr>\n",
       "    <tr>\n",
       "      <th>1</th>\n",
       "      <td>GP</td>\n",
       "      <td>F</td>\n",
       "      <td>17</td>\n",
       "      <td>U</td>\n",
       "      <td>GT3</td>\n",
       "      <td>T</td>\n",
       "      <td>1</td>\n",
       "      <td>1</td>\n",
       "      <td>at_home</td>\n",
       "      <td>other</td>\n",
       "      <td>...</td>\n",
       "      <td>5</td>\n",
       "      <td>3</td>\n",
       "      <td>3</td>\n",
       "      <td>1</td>\n",
       "      <td>1</td>\n",
       "      <td>3</td>\n",
       "      <td>4</td>\n",
       "      <td>5</td>\n",
       "      <td>5</td>\n",
       "      <td>6</td>\n",
       "    </tr>\n",
       "    <tr>\n",
       "      <th>2</th>\n",
       "      <td>GP</td>\n",
       "      <td>F</td>\n",
       "      <td>15</td>\n",
       "      <td>U</td>\n",
       "      <td>LE3</td>\n",
       "      <td>T</td>\n",
       "      <td>1</td>\n",
       "      <td>1</td>\n",
       "      <td>at_home</td>\n",
       "      <td>other</td>\n",
       "      <td>...</td>\n",
       "      <td>4</td>\n",
       "      <td>3</td>\n",
       "      <td>2</td>\n",
       "      <td>2</td>\n",
       "      <td>3</td>\n",
       "      <td>3</td>\n",
       "      <td>10</td>\n",
       "      <td>7</td>\n",
       "      <td>8</td>\n",
       "      <td>10</td>\n",
       "    </tr>\n",
       "    <tr>\n",
       "      <th>3</th>\n",
       "      <td>GP</td>\n",
       "      <td>F</td>\n",
       "      <td>15</td>\n",
       "      <td>U</td>\n",
       "      <td>GT3</td>\n",
       "      <td>T</td>\n",
       "      <td>4</td>\n",
       "      <td>2</td>\n",
       "      <td>health</td>\n",
       "      <td>services</td>\n",
       "      <td>...</td>\n",
       "      <td>3</td>\n",
       "      <td>2</td>\n",
       "      <td>2</td>\n",
       "      <td>1</td>\n",
       "      <td>1</td>\n",
       "      <td>5</td>\n",
       "      <td>2</td>\n",
       "      <td>15</td>\n",
       "      <td>14</td>\n",
       "      <td>15</td>\n",
       "    </tr>\n",
       "    <tr>\n",
       "      <th>4</th>\n",
       "      <td>GP</td>\n",
       "      <td>F</td>\n",
       "      <td>16</td>\n",
       "      <td>U</td>\n",
       "      <td>GT3</td>\n",
       "      <td>T</td>\n",
       "      <td>3</td>\n",
       "      <td>3</td>\n",
       "      <td>other</td>\n",
       "      <td>other</td>\n",
       "      <td>...</td>\n",
       "      <td>4</td>\n",
       "      <td>3</td>\n",
       "      <td>2</td>\n",
       "      <td>1</td>\n",
       "      <td>2</td>\n",
       "      <td>5</td>\n",
       "      <td>4</td>\n",
       "      <td>6</td>\n",
       "      <td>10</td>\n",
       "      <td>10</td>\n",
       "    </tr>\n",
       "  </tbody>\n",
       "</table>\n",
       "<p>5 rows × 33 columns</p>\n",
       "</div>"
      ],
      "text/plain": [
       "  school sex  age address famsize Pstatus  Medu  Fedu     Mjob      Fjob  ...  \\\n",
       "0     GP   F   18       U     GT3       A     4     4  at_home   teacher  ...   \n",
       "1     GP   F   17       U     GT3       T     1     1  at_home     other  ...   \n",
       "2     GP   F   15       U     LE3       T     1     1  at_home     other  ...   \n",
       "3     GP   F   15       U     GT3       T     4     2   health  services  ...   \n",
       "4     GP   F   16       U     GT3       T     3     3    other     other  ...   \n",
       "\n",
       "  famrel freetime  goout  Dalc  Walc health absences  G1  G2  G3  \n",
       "0      4        3      4     1     1      3        6   5   6   6  \n",
       "1      5        3      3     1     1      3        4   5   5   6  \n",
       "2      4        3      2     2     3      3       10   7   8  10  \n",
       "3      3        2      2     1     1      5        2  15  14  15  \n",
       "4      4        3      2     1     2      5        4   6  10  10  \n",
       "\n",
       "[5 rows x 33 columns]"
      ]
     },
     "execution_count": 5,
     "metadata": {},
     "output_type": "execute_result"
    }
   ],
   "source": [
    "data.head(5)"
   ]
  },
  {
   "cell_type": "markdown",
   "metadata": {},
   "source": [
    "# 4) Implementing different kind of normalization techniques on columns G1, G2 and G3"
   ]
  },
  {
   "cell_type": "markdown",
   "metadata": {},
   "source": [
    "# (i) Min-Max Normlization"
   ]
  },
  {
   "cell_type": "code",
   "execution_count": 8,
   "metadata": {},
   "outputs": [],
   "source": [
    "#Range-> [0,1]\n",
    "G1= (data['G1'] - data['G1'].min()) / (data['G1'].max() - data['G1'].min())\n",
    "G2= (data['G2'] - data['G2'].min()) / (data['G2'].max() - data['G2'].min())\n",
    "G3= (data['G3'] - data['G3'].min()) / (data['G3'].max() - data['G3'].min())"
   ]
  },
  {
   "cell_type": "code",
   "execution_count": 9,
   "metadata": {},
   "outputs": [
    {
     "name": "stdout",
     "output_type": "stream",
     "text": [
      "0      0.1250\n",
      "1      0.1250\n",
      "2      0.2500\n",
      "3      0.7500\n",
      "4      0.1875\n",
      "        ...  \n",
      "390    0.3750\n",
      "391    0.6875\n",
      "392    0.4375\n",
      "393    0.5000\n",
      "394    0.3125\n",
      "Name: G1, Length: 395, dtype: float64\n",
      "0      0.315789\n",
      "1      0.263158\n",
      "2      0.421053\n",
      "3      0.736842\n",
      "4      0.526316\n",
      "         ...   \n",
      "390    0.473684\n",
      "391    0.842105\n",
      "392    0.421053\n",
      "393    0.631579\n",
      "394    0.473684\n",
      "Name: G2, Length: 395, dtype: float64\n",
      "0      0.30\n",
      "1      0.30\n",
      "2      0.50\n",
      "3      0.75\n",
      "4      0.50\n",
      "       ... \n",
      "390    0.45\n",
      "391    0.80\n",
      "392    0.35\n",
      "393    0.50\n",
      "394    0.45\n",
      "Name: G3, Length: 395, dtype: float64\n"
     ]
    }
   ],
   "source": [
    "print(G1)\n",
    "print(G2)\n",
    "print(G3)"
   ]
  },
  {
   "cell_type": "markdown",
   "metadata": {},
   "source": [
    "# (ii) Z-score Normalization (Standardization)"
   ]
  },
  {
   "cell_type": "code",
   "execution_count": 14,
   "metadata": {},
   "outputs": [],
   "source": [
    "#Transforms the data into a distribution with a mean of 0 and a standard deviation of 1.\n",
    "G1= (data['G1'] - data['G1'].mean()) / (data['G1'].std())\n",
    "G2= (data['G2'] - data['G2'].mean()) / (data['G2'].std())\n",
    "G3= (data['G3'] - data['G3'].mean()) / (data['G3'].std())"
   ]
  },
  {
   "cell_type": "code",
   "execution_count": 15,
   "metadata": {},
   "outputs": [
    {
     "name": "stdout",
     "output_type": "stream",
     "text": [
      "0     -1.780209\n",
      "1     -1.780209\n",
      "2     -1.177653\n",
      "3      1.232570\n",
      "4     -1.478931\n",
      "         ...   \n",
      "390   -0.575098\n",
      "391    0.931292\n",
      "392   -0.273820\n",
      "393    0.027458\n",
      "394   -0.876375\n",
      "Name: G1, Length: 395, dtype: float64\n",
      "0     -1.253202\n",
      "1     -1.519053\n",
      "2     -0.721500\n",
      "3      0.873607\n",
      "4     -0.189797\n",
      "         ...   \n",
      "390   -0.455649\n",
      "391    1.405309\n",
      "392   -0.721500\n",
      "393    0.341905\n",
      "394   -0.455649\n",
      "Name: G2, Length: 395, dtype: float64\n",
      "0     -0.963712\n",
      "1     -0.963712\n",
      "2     -0.090624\n",
      "3      1.000735\n",
      "4     -0.090624\n",
      "         ...   \n",
      "390   -0.308896\n",
      "391    1.219007\n",
      "392   -0.745440\n",
      "393   -0.090624\n",
      "394   -0.308896\n",
      "Name: G3, Length: 395, dtype: float64\n"
     ]
    }
   ],
   "source": [
    "print(G1)\n",
    "print(G2)\n",
    "print(G3)"
   ]
  },
  {
   "cell_type": "markdown",
   "metadata": {},
   "source": [
    "# (iii) Maximum Absolute Normalization"
   ]
  },
  {
   "cell_type": "code",
   "execution_count": 17,
   "metadata": {},
   "outputs": [],
   "source": [
    "#Rescales the data between -1 and 1.\n",
    "G1= (data['G1']) / (data['G1'].abs().max())\n",
    "G2= (data['G2']) / (data['G2'].abs().max())\n",
    "G3= (data['G3']) / (data['G3'].abs().max())"
   ]
  },
  {
   "cell_type": "code",
   "execution_count": 18,
   "metadata": {},
   "outputs": [
    {
     "name": "stdout",
     "output_type": "stream",
     "text": [
      "0      0.1250\n",
      "1      0.1250\n",
      "2      0.2500\n",
      "3      0.7500\n",
      "4      0.1875\n",
      "        ...  \n",
      "390    0.3750\n",
      "391    0.6875\n",
      "392    0.4375\n",
      "393    0.5000\n",
      "394    0.3125\n",
      "Name: G1, Length: 395, dtype: float64\n",
      "0      0.315789\n",
      "1      0.263158\n",
      "2      0.421053\n",
      "3      0.736842\n",
      "4      0.526316\n",
      "         ...   \n",
      "390    0.473684\n",
      "391    0.842105\n",
      "392    0.421053\n",
      "393    0.631579\n",
      "394    0.473684\n",
      "Name: G2, Length: 395, dtype: float64\n",
      "0      0.30\n",
      "1      0.30\n",
      "2      0.50\n",
      "3      0.75\n",
      "4      0.50\n",
      "       ... \n",
      "390    0.45\n",
      "391    0.80\n",
      "392    0.35\n",
      "393    0.50\n",
      "394    0.45\n",
      "Name: G3, Length: 395, dtype: float64\n"
     ]
    }
   ],
   "source": [
    "print(G1)\n",
    "print(G2)\n",
    "print(G3)"
   ]
  }
 ],
 "metadata": {
  "kernelspec": {
   "display_name": "Python 3",
   "language": "python",
   "name": "python3"
  },
  "language_info": {
   "codemirror_mode": {
    "name": "ipython",
    "version": 3
   },
   "file_extension": ".py",
   "mimetype": "text/x-python",
   "name": "python",
   "nbconvert_exporter": "python",
   "pygments_lexer": "ipython3",
   "version": "3.7.6"
  }
 },
 "nbformat": 4,
 "nbformat_minor": 4
}
